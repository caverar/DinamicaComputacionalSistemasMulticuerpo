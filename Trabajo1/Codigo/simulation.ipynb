{
 "cells": [
  {
   "cell_type": "markdown",
   "metadata": {},
   "source": [
    "# Librerías y Configuración"
   ]
  },
  {
   "cell_type": "code",
   "execution_count": 101,
   "metadata": {},
   "outputs": [],
   "source": [
    "from IPython.display import display                             # Liberia para imprimir variables\n",
    "import sympy as sp                                              # Librería CAS\n",
    "import numpy as np                                              # Librería de calculo numérico de matrices\n",
    "sp.init_printing(use_unicode = True, use_latex=\"mathjax\")       # Print en LateX"
   ]
  },
  {
   "cell_type": "markdown",
   "metadata": {},
   "source": [
    "# Planteamiento de ecuaciones"
   ]
  },
  {
   "cell_type": "markdown",
   "metadata": {},
   "source": [
    "### Variables Simbólicas"
   ]
  },
  {
   "cell_type": "code",
   "execution_count": 102,
   "metadata": {},
   "outputs": [
    {
     "data": {
      "text/latex": [
       "$\\displaystyle \\left( l^{2}, \\  l^{3}, \\  \\theta^{2}_{0}, \\  \\theta^{3}_{0}, \\  \\omega^{2}, \\  \\omega^{3}, \\  t, \\  \\left[\\begin{matrix}R^{1}_{x}\\\\R^{1}_{y}\\\\\\theta^{1}\\\\R^{2}_{x}\\\\R^{2}_{y}\\\\\\theta^{2}\\\\R^{3}_{x}\\\\R^{3}_{y}\\\\\\theta^{3}\\end{matrix}\\right]\\right)$"
      ],
      "text/plain": [
       "⎛                                       ⎡ R¹ₓ  ⎤⎞\n",
       "⎜                                       ⎢      ⎥⎟\n",
       "⎜                                       ⎢R_y__1⎥⎟\n",
       "⎜                                       ⎢      ⎥⎟\n",
       "⎜                                       ⎢  θ¹  ⎥⎟\n",
       "⎜                                       ⎢      ⎥⎟\n",
       "⎜                                       ⎢ R²ₓ  ⎥⎟\n",
       "⎜                                       ⎢      ⎥⎟\n",
       "⎜l², l³, \\theta²₀, \\theta³₀, ω², ω³, t, ⎢R_y__2⎥⎟\n",
       "⎜                                       ⎢      ⎥⎟\n",
       "⎜                                       ⎢  θ²  ⎥⎟\n",
       "⎜                                       ⎢      ⎥⎟\n",
       "⎜                                       ⎢ R³ₓ  ⎥⎟\n",
       "⎜                                       ⎢      ⎥⎟\n",
       "⎜                                       ⎢R_y__3⎥⎟\n",
       "⎜                                       ⎢      ⎥⎟\n",
       "⎝                                       ⎣  θ³  ⎦⎠"
      ]
     },
     "execution_count": 102,
     "metadata": {},
     "output_type": "execute_result"
    }
   ],
   "source": [
    "# Parámetros\n",
    "l_2 = sp.symbols(\"l__2\")                                        # Longitud del eslabón 2\n",
    "l_3 = sp.symbols(\"l__3\")                                        # Longitud del eslabón 3\n",
    "theta_2_0 = sp.symbols('\\\\theta__2_0')                          # Angulo inicial del eslabón 2\n",
    "theta_3_0 = sp.symbols(\"\\\\theta__3_0\")                          # Angulo inicial del eslabón 3\n",
    "omega_2 = sp.symbols(\"omega__2\")                                # Velocidad angular del eslabón 2\n",
    "omega_3 = sp.symbols(\"omega__3\")                                # Velocidad angular del eslabón 3\n",
    "\n",
    "# Incógnitas (q)\n",
    "R_1_x, R_1_y, theta_1 = sp.symbols('R^1_x R^1_y theta__1')      # Eslabón 1\n",
    "R_2_x, R_2_y, theta_2 = sp.symbols(\"R^2_x R^2_y theta__2\")      # Eslabón 2\n",
    "R_3_x, R_3_y, theta_3 = sp.symbols(\"R^3_x R^3_y theta__3\")      # Eslabón 3\n",
    "\n",
    "## Vector columna q\n",
    "q = sp.Matrix([R_1_x, R_1_y, theta_1, R_2_x, R_2_y, theta_2, R_3_x, R_3_y, theta_3])\n",
    "\n",
    "# Variable de tiempo\n",
    "t = sp.symbols(\"t\")\n",
    "\n",
    "# Imprimir tupla con variables para verificar\n",
    "\n",
    "l_2, l_3, theta_2_0, theta_3_0, omega_2, omega_3, t,q\n"
   ]
  },
  {
   "cell_type": "code",
   "execution_count": 103,
   "metadata": {},
   "outputs": [
    {
     "data": {
      "text/latex": [
       "$\\displaystyle \\left( R^{1}_{x}, \\  R^{1}_{y}, \\  \\theta^{1}, \\  R^{2}_{x} - \\frac{l^{2} \\cos{\\left(\\theta^{2} \\right)}}{2}, \\  R^{2}_{y} - \\frac{l^{2} \\sin{\\left(\\theta^{2} \\right)}}{2}, \\  R^{2}_{x} - R^{3}_{x} + \\frac{l^{2} \\cos{\\left(\\theta^{2} \\right)}}{2} + \\frac{l^{3} \\cos{\\left(\\theta^{3} \\right)}}{2}, \\  R^{2}_{y} - R^{3}_{y} + \\frac{l^{2} \\sin{\\left(\\theta^{2} \\right)}}{2} + \\frac{l^{3} \\sin{\\left(\\theta^{3} \\right)}}{2}, \\  - \\theta^{2}_{0} - \\omega^{2} t + \\theta^{2}, \\  - \\theta^{3}_{0} - \\omega^{3} t + \\theta^{3}\\right)$"
      ],
      "text/plain": [
       "⎛                       l²⋅cos(θ²)           l²⋅sin(θ²)              l²⋅cos(θ²\n",
       "⎜R¹ₓ, R_y__1, θ¹, R²ₓ - ──────────, R_y__2 - ──────────, R²ₓ - R³ₓ + ─────────\n",
       "⎝                           2                    2                       2    \n",
       "\n",
       ")   l³⋅cos(θ³)                    l²⋅sin(θ²)   l³⋅sin(θ³)                     \n",
       "─ + ──────────, R_y__2 - R_y__3 + ────────── + ──────────, -\\theta²₀ - ω²⋅t + \n",
       "        2                             2            2                          \n",
       "\n",
       "                         ⎞\n",
       "θ², -\\theta³₀ - ω³⋅t + θ³⎟\n",
       "                         ⎠"
      ]
     },
     "execution_count": 103,
     "metadata": {},
     "output_type": "execute_result"
    }
   ],
   "source": [
    "# Ecuaciones de Juntas: (igualadas a 0)\n",
    "## Junta Fija\n",
    "e1 = R_1_x\n",
    "e2 = R_1_y\n",
    "e3 = theta_1\n",
    "\n",
    "## Junta R2\n",
    "e4 = R_2_x - ((l_2/2) * sp.cos(theta_2))\n",
    "e5 = R_2_y - ((l_2/2) * sp.sin(theta_2))\n",
    "\n",
    "## Junta R3\n",
    "e6 = R_2_x + ((l_2/2) * sp.cos(theta_2)) - R_3_x + ((l_3/2) * sp.cos(theta_3))\n",
    "e7 = R_2_y + ((l_2/2) * sp.sin(theta_2)) - R_3_y + ((l_3/2) * sp.sin(theta_3))\n",
    "\n",
    "## Ecuaciones de gobierno para ambas juntas\n",
    "e8 = theta_2 - theta_2_0 - (omega_2*t)\n",
    "e9 = theta_3 - theta_3_0 - (omega_3*t)\n",
    "\n",
    "# Imprimir tupla con ecuaciones para verificar\n",
    "e1, e2, e3, e4, e5, e6, e7, e8, e9"
   ]
  },
  {
   "cell_type": "markdown",
   "metadata": {},
   "source": [
    "### Matrices de Calculo"
   ]
  },
  {
   "cell_type": "code",
   "execution_count": 104,
   "metadata": {},
   "outputs": [
    {
     "data": {
      "text/latex": [
       "$\\displaystyle \\left( \\left[\\begin{matrix}R^{1}_{x}\\\\R^{1}_{y}\\\\\\theta^{1}\\\\R^{2}_{x} - \\frac{l^{2} \\cos{\\left(\\theta^{2} \\right)}}{2}\\\\R^{2}_{y} - \\frac{l^{2} \\sin{\\left(\\theta^{2} \\right)}}{2}\\\\R^{2}_{x} - R^{3}_{x} + \\frac{l^{2} \\cos{\\left(\\theta^{2} \\right)}}{2} + \\frac{l^{3} \\cos{\\left(\\theta^{3} \\right)}}{2}\\\\R^{2}_{y} - R^{3}_{y} + \\frac{l^{2} \\sin{\\left(\\theta^{2} \\right)}}{2} + \\frac{l^{3} \\sin{\\left(\\theta^{3} \\right)}}{2}\\\\- \\theta^{2}_{0} - \\omega^{2} t + \\theta^{2}\\\\- \\theta^{3}_{0} - \\omega^{3} t + \\theta^{3}\\end{matrix}\\right], \\  \\left[\\begin{matrix}1 & 0 & 0 & 0 & 0 & 0 & 0 & 0 & 0\\\\0 & 1 & 0 & 0 & 0 & 0 & 0 & 0 & 0\\\\0 & 0 & 1 & 0 & 0 & 0 & 0 & 0 & 0\\\\0 & 0 & 0 & 1 & 0 & \\frac{l^{2} \\sin{\\left(\\theta^{2} \\right)}}{2} & 0 & 0 & 0\\\\0 & 0 & 0 & 0 & 1 & - \\frac{l^{2} \\cos{\\left(\\theta^{2} \\right)}}{2} & 0 & 0 & 0\\\\0 & 0 & 0 & 1 & 0 & - \\frac{l^{2} \\sin{\\left(\\theta^{2} \\right)}}{2} & -1 & 0 & - \\frac{l^{3} \\sin{\\left(\\theta^{3} \\right)}}{2}\\\\0 & 0 & 0 & 0 & 1 & \\frac{l^{2} \\cos{\\left(\\theta^{2} \\right)}}{2} & 0 & -1 & \\frac{l^{3} \\cos{\\left(\\theta^{3} \\right)}}{2}\\\\0 & 0 & 0 & 0 & 0 & 1 & 0 & 0 & 0\\\\0 & 0 & 0 & 0 & 0 & 0 & 0 & 0 & 1\\end{matrix}\\right]\\right)$"
      ],
      "text/plain": [
       "⎛⎡                   R¹ₓ                   ⎤  ⎡1  0  0  0  0       0        0 \n",
       "⎜⎢                                         ⎥  ⎢                               \n",
       "⎜⎢                 R_y__1                  ⎥  ⎢0  1  0  0  0       0        0 \n",
       "⎜⎢                                         ⎥  ⎢                               \n",
       "⎜⎢                   θ¹                    ⎥  ⎢0  0  1  0  0       0        0 \n",
       "⎜⎢                                         ⎥  ⎢                               \n",
       "⎜⎢                  l²⋅cos(θ²)             ⎥  ⎢                l²⋅sin(θ²)     \n",
       "⎜⎢            R²ₓ - ──────────             ⎥  ⎢0  0  0  1  0   ──────────   0 \n",
       "⎜⎢                      2                  ⎥  ⎢                    2          \n",
       "⎜⎢                                         ⎥  ⎢                               \n",
       "⎜⎢                    l²⋅sin(θ²)           ⎥  ⎢               -l²⋅cos(θ²)     \n",
       "⎜⎢           R_y__2 - ──────────           ⎥  ⎢0  0  0  0  1  ────────────  0 \n",
       "⎜⎢                        2                ⎥, ⎢                    2          \n",
       "⎜⎢                                         ⎥  ⎢                               \n",
       "⎜⎢               l²⋅cos(θ²)   l³⋅cos(θ³)   ⎥  ⎢               -l²⋅sin(θ²)     \n",
       "⎜⎢   R²ₓ - R³ₓ + ────────── + ──────────   ⎥  ⎢0  0  0  1  0  ────────────  -1\n",
       "⎜⎢                   2            2        ⎥  ⎢                    2          \n",
       "⎜⎢                                         ⎥  ⎢                               \n",
       "⎜⎢                  l²⋅sin(θ²)   l³⋅sin(θ³)⎥  ⎢                l²⋅cos(θ²)     \n",
       "⎜⎢R_y__2 - R_y__3 + ────────── + ──────────⎥  ⎢0  0  0  0  1   ──────────   0 \n",
       "⎜⎢                      2            2     ⎥  ⎢                    2          \n",
       "⎜⎢                                         ⎥  ⎢                               \n",
       "⎜⎢          -\\theta²₀ - ω²⋅t + θ²          ⎥  ⎢0  0  0  0  0       1        0 \n",
       "⎜⎢                                         ⎥  ⎢                               \n",
       "⎝⎣          -\\theta³₀ - ω³⋅t + θ³          ⎦  ⎣0  0  0  0  0       0        0 \n",
       "\n",
       "  0        0      ⎤⎞\n",
       "                  ⎥⎟\n",
       "  0        0      ⎥⎟\n",
       "                  ⎥⎟\n",
       "  0        0      ⎥⎟\n",
       "                  ⎥⎟\n",
       "                  ⎥⎟\n",
       "  0        0      ⎥⎟\n",
       "                  ⎥⎟\n",
       "                  ⎥⎟\n",
       "                  ⎥⎟\n",
       "  0        0      ⎥⎟\n",
       "                  ⎥⎟\n",
       "                  ⎥⎟\n",
       "      -l³⋅sin(θ³) ⎥⎟\n",
       "  0   ────────────⎥⎟\n",
       "           2      ⎥⎟\n",
       "                  ⎥⎟\n",
       "       l³⋅cos(θ³) ⎥⎟\n",
       "  -1   ────────── ⎥⎟\n",
       "           2      ⎥⎟\n",
       "                  ⎥⎟\n",
       "  0        0      ⎥⎟\n",
       "                  ⎥⎟\n",
       "  0        1      ⎦⎠"
      ]
     },
     "execution_count": 104,
     "metadata": {},
     "output_type": "execute_result"
    }
   ],
   "source": [
    "# Vector de ecuaciones de restricción\n",
    "C_qt = sp.Matrix([e1, e2, e3, e4, e5, e6, e7, e8, e9])\n",
    "# Matriz Jacobiana\n",
    "J_qt = C_qt.jacobian(q)\n",
    "\n",
    "C_qt, J_qt"
   ]
  },
  {
   "cell_type": "markdown",
   "metadata": {},
   "source": [
    "# Calculo numérico"
   ]
  },
  {
   "cell_type": "markdown",
   "metadata": {},
   "source": [
    "### Parámetros"
   ]
  },
  {
   "cell_type": "code",
   "execution_count": 105,
   "metadata": {},
   "outputs": [],
   "source": [
    "# Lista con parámetros del mecanismo\n",
    "mechanism_parameters = [ # Eslabón 2\n",
    "                        (l_2, 400),              # Distancia en mm\n",
    "                        (theta_2_0, sp.pi/3),    # Angulo inicial 60°\n",
    "                        (omega_2, sp.pi/4),      # Velocidad de rotación constante 45°/s\n",
    "                        # Eslabón 3\n",
    "                        (l_3, 300),              # Distancia en mm\n",
    "                        (theta_3_0, -sp.pi/6),    # Angulo inicial 30° (-30° relativo al eslabón 2)\n",
    "                        (omega_3, -sp.pi/2)]     # Velocidad de rotación constante -90°/s\n",
    "\n",
    "\n",
    "## Parámetros de simulación\n",
    "max_iter = 10           # Numero de iteraciones\n",
    "max_error = 1e-8        # Error admisible\n",
    "steps = 100             # Numero de muestras por segundo\n",
    "time = 1                # Tiempo de simulación en segundos\n"
   ]
  },
  {
   "cell_type": "markdown",
   "metadata": {},
   "source": [
    "### Remplazar parámetros en matrices"
   ]
  },
  {
   "cell_type": "code",
   "execution_count": 106,
   "metadata": {},
   "outputs": [
    {
     "data": {
      "text/latex": [
       "$\\displaystyle \\left( \\left[\\begin{matrix}R^{1}_{x}\\\\R^{1}_{y}\\\\\\theta^{1}\\\\R^{2}_{x} - 200 \\cos{\\left(\\theta^{2} \\right)}\\\\R^{2}_{y} - 200 \\sin{\\left(\\theta^{2} \\right)}\\\\R^{2}_{x} - R^{3}_{x} + 200 \\cos{\\left(\\theta^{2} \\right)} + 150 \\cos{\\left(\\theta^{3} \\right)}\\\\R^{2}_{y} - R^{3}_{y} + 200 \\sin{\\left(\\theta^{2} \\right)} + 150 \\sin{\\left(\\theta^{3} \\right)}\\\\- \\frac{\\pi t}{4} + \\theta^{2} - \\frac{\\pi}{3}\\\\\\frac{\\pi t}{2} + \\theta^{3} + \\frac{\\pi}{6}\\end{matrix}\\right], \\  \\left[\\begin{matrix}1 & 0 & 0 & 0 & 0 & 0 & 0 & 0 & 0\\\\0 & 1 & 0 & 0 & 0 & 0 & 0 & 0 & 0\\\\0 & 0 & 1 & 0 & 0 & 0 & 0 & 0 & 0\\\\0 & 0 & 0 & 1 & 0 & 200 \\sin{\\left(\\theta^{2} \\right)} & 0 & 0 & 0\\\\0 & 0 & 0 & 0 & 1 & - 200 \\cos{\\left(\\theta^{2} \\right)} & 0 & 0 & 0\\\\0 & 0 & 0 & 1 & 0 & - 200 \\sin{\\left(\\theta^{2} \\right)} & -1 & 0 & - 150 \\sin{\\left(\\theta^{3} \\right)}\\\\0 & 0 & 0 & 0 & 1 & 200 \\cos{\\left(\\theta^{2} \\right)} & 0 & -1 & 150 \\cos{\\left(\\theta^{3} \\right)}\\\\0 & 0 & 0 & 0 & 0 & 1 & 0 & 0 & 0\\\\0 & 0 & 0 & 0 & 0 & 0 & 0 & 0 & 1\\end{matrix}\\right]\\right)$"
      ],
      "text/plain": [
       "⎛⎡                    R¹ₓ                    ⎤                                \n",
       "⎜⎢                                           ⎥                                \n",
       "⎜⎢                  R_y__1                   ⎥  ⎡1  0  0  0  0       0        \n",
       "⎜⎢                                           ⎥  ⎢                             \n",
       "⎜⎢                    θ¹                     ⎥  ⎢0  1  0  0  0       0        \n",
       "⎜⎢                                           ⎥  ⎢                             \n",
       "⎜⎢             R²ₓ - 200⋅cos(θ²)             ⎥  ⎢0  0  1  0  0       0        \n",
       "⎜⎢                                           ⎥  ⎢                             \n",
       "⎜⎢           R_y__2 - 200⋅sin(θ²)            ⎥  ⎢0  0  0  1  0  200⋅sin(θ²)   \n",
       "⎜⎢                                           ⎥  ⎢                             \n",
       "⎜⎢   R²ₓ - R³ₓ + 200⋅cos(θ²) + 150⋅cos(θ³)   ⎥, ⎢0  0  0  0  1  -200⋅cos(θ²)  \n",
       "⎜⎢                                           ⎥  ⎢                             \n",
       "⎜⎢R_y__2 - R_y__3 + 200⋅sin(θ²) + 150⋅sin(θ³)⎥  ⎢0  0  0  1  0  -200⋅sin(θ²)  \n",
       "⎜⎢                                           ⎥  ⎢                             \n",
       "⎜⎢                π⋅t        π               ⎥  ⎢0  0  0  0  1  200⋅cos(θ²)   \n",
       "⎜⎢              - ─── + θ² - ─               ⎥  ⎢                             \n",
       "⎜⎢                 4         3               ⎥  ⎢0  0  0  0  0       1        \n",
       "⎜⎢                                           ⎥  ⎢                             \n",
       "⎜⎢               π⋅t        π                ⎥  ⎣0  0  0  0  0       0        \n",
       "⎜⎢               ─── + θ³ + ─                ⎥                                \n",
       "⎝⎣                2         6                ⎦                                \n",
       "\n",
       "                     ⎞\n",
       "                     ⎟\n",
       "0   0        0      ⎤⎟\n",
       "                    ⎥⎟\n",
       "0   0        0      ⎥⎟\n",
       "                    ⎥⎟\n",
       "0   0        0      ⎥⎟\n",
       "                    ⎥⎟\n",
       "0   0        0      ⎥⎟\n",
       "                    ⎥⎟\n",
       "0   0        0      ⎥⎟\n",
       "                    ⎥⎟\n",
       "-1  0   -150⋅sin(θ³)⎥⎟\n",
       "                    ⎥⎟\n",
       "0   -1  150⋅cos(θ³) ⎥⎟\n",
       "                    ⎥⎟\n",
       "0   0        0      ⎥⎟\n",
       "                    ⎥⎟\n",
       "0   0        1      ⎦⎟\n",
       "                     ⎟\n",
       "                     ⎠"
      ]
     },
     "execution_count": 106,
     "metadata": {},
     "output_type": "execute_result"
    }
   ],
   "source": [
    "\n",
    "C_qt = C_qt.subs(mechanism_parameters)\n",
    "J_qt = J_qt.subs(mechanism_parameters)\n",
    "\n",
    "C_qt, J_qt"
   ]
  },
  {
   "cell_type": "markdown",
   "metadata": {},
   "source": [
    "### Aplicación de método de Newton-Raphson"
   ]
  },
  {
   "cell_type": "code",
   "execution_count": 107,
   "metadata": {},
   "outputs": [],
   "source": [
    "# q_values = np.array([0, 0, 0, 100, 170, sp.pi/3, 330, 420, sp.pi/6])\n",
    "# print(q_values[0])\n",
    "# q_values_list = [(R_1_x,    q_values[0]),\n",
    "#                  (R_1_y,    q_values[1]),\n",
    "#                  (theta_1,  q_values[2]),\n",
    "#                  (R_2_x,    q_values[3]),\n",
    "#                  (R_2_y,    q_values[4]),\n",
    "#                  (theta_2,  q_values[5]),\n",
    "#                  (R_3_x,    q_values[6]),\n",
    "#                  (R_3_y,    q_values[7]),\n",
    "#                  (theta_3,  q_values[8]),\n",
    "#                  (t,       (time/steps) * 1)]\n",
    "# q_values_list\n",
    "# C_qt.subs(q_values_list)"
   ]
  },
  {
   "cell_type": "code",
   "execution_count": 108,
   "metadata": {},
   "outputs": [
    {
     "name": "stdout",
     "output_type": "stream",
     "text": [
      "Time:  0.0 , Iteration:  3 , Error:  1.9576655185790393e-14 , theta2: 60.00000000000001 , theta3: -30.000000000000004\n",
      "Time:  0.01 , Iteration:  3 , Error:  1.365596924429769e-14 , theta2: 60.45 , theta3: -30.9\n",
      "Time:  0.02 , Iteration:  3 , Error:  1.628856479321856e-14 , theta2: 60.900000000000006 , theta3: -31.799999999999994\n",
      "Time:  0.03 , Iteration:  3 , Error:  4.784223360915946e-14 , theta2: 61.35 , theta3: -32.7\n",
      "Time:  0.04 , Iteration:  3 , Error:  4.0114113731971983e-14 , theta2: 61.8 , theta3: -33.599999999999994\n",
      "Time:  0.05 , Iteration:  3 , Error:  3.7118592969960326e-14 , theta2: 62.24999999999999 , theta3: -34.50000000000001\n",
      "Time:  0.06 , Iteration:  3 , Error:  3.347600029346295e-14 , theta2: 62.7 , theta3: -35.399999999999984\n",
      "Time:  0.07 , Iteration:  3 , Error:  2.859487737881338e-14 , theta2: 63.150000000000006 , theta3: -36.3\n",
      "Time:  0.08 , Iteration:  3 , Error:  3.5113946038986715e-14 , theta2: 63.6 , theta3: -37.19999999999999\n",
      "Time:  0.09 , Iteration:  3 , Error:  1.815745900517253e-14 , theta2: 64.05 , theta3: -38.099999999999994\n",
      "Time:  0.1 , Iteration:  3 , Error:  1.7559867551775805e-14 , theta2: 64.50000000000001 , theta3: -38.99999999999999\n",
      "Time:  0.11 , Iteration:  3 , Error:  4.793672232488681e-14 , theta2: 64.95 , theta3: -39.9\n",
      "Time:  0.12 , Iteration:  3 , Error:  4.160523484410918e-14 , theta2: 65.4 , theta3: -40.8\n",
      "Time:  0.13 , Iteration:  3 , Error:  2.6430996678740178e-14 , theta2: 65.85 , theta3: -41.7\n",
      "Time:  0.14 , Iteration:  3 , Error:  1.5753615299467495e-14 , theta2: 66.3 , theta3: -42.599999999999994\n",
      "Time:  0.15 , Iteration:  3 , Error:  5.2358638711142716e-14 , theta2: 66.75 , theta3: -43.49999999999999\n",
      "Time:  0.16 , Iteration:  3 , Error:  4.0597842650078426e-14 , theta2: 67.2 , theta3: -44.4\n",
      "Time:  0.17 , Iteration:  3 , Error:  2.912504199055854e-14 , theta2: 67.65 , theta3: -45.3\n",
      "Time:  0.18 , Iteration:  3 , Error:  3.666365654533765e-14 , theta2: 68.1 , theta3: -46.2\n",
      "Time:  0.19 , Iteration:  3 , Error:  4.9926870121556074e-15 , theta2: 68.55 , theta3: -47.099999999999994\n",
      "Time:  0.2 , Iteration:  3 , Error:  1.7636654108254007e-14 , theta2: 69.00000000000001 , theta3: -48.00000000000001\n",
      "Time:  0.21 , Iteration:  3 , Error:  2.1286542211484743e-14 , theta2: 69.45 , theta3: -48.899999999999984\n",
      "Time:  0.22 , Iteration:  3 , Error:  1.3261927054370724e-14 , theta2: 69.9 , theta3: -49.8\n",
      "Time:  0.23 , Iteration:  3 , Error:  1.9009483644561355e-14 , theta2: 70.35 , theta3: -50.69999999999999\n",
      "Time:  0.24 , Iteration:  3 , Error:  3.233208703253054e-14 , theta2: 70.8 , theta3: -51.599999999999994\n",
      "Time:  0.25 , Iteration:  3 , Error:  2.4968927776100494e-14 , theta2: 71.25 , theta3: -52.49999999999999\n",
      "Time:  0.26 , Iteration:  3 , Error:  2.8231340545549764e-14 , theta2: 71.7 , theta3: -53.4\n",
      "Time:  0.27 , Iteration:  3 , Error:  4.568731658357719e-14 , theta2: 72.15 , theta3: -54.3\n",
      "Time:  0.28 , Iteration:  3 , Error:  3.6465098498233586e-14 , theta2: 72.6 , theta3: -55.2\n",
      "Time:  0.29 , Iteration:  3 , Error:  3.226259013865533e-14 , theta2: 73.05 , theta3: -56.09999999999998\n",
      "Time:  0.3 , Iteration:  3 , Error:  1.7381302611231915e-14 , theta2: 73.5 , theta3: -56.99999999999999\n",
      "Time:  0.31 , Iteration:  3 , Error:  1.8486224401492913e-14 , theta2: 73.95 , theta3: -57.899999999999984\n",
      "Time:  0.32 , Iteration:  3 , Error:  1.3023017874298093e-14 , theta2: 74.4 , theta3: -58.8\n",
      "Time:  0.33 , Iteration:  3 , Error:  4.0117915262302e-14 , theta2: 74.85 , theta3: -59.69999999999999\n",
      "Time:  0.34 , Iteration:  3 , Error:  1.1838131414496031e-14 , theta2: 75.3 , theta3: -60.599999999999994\n",
      "Time:  0.35000000000000003 , Iteration:  3 , Error:  2.2586605492937427e-14 , theta2: 75.75000000000001 , theta3: -61.49999999999999\n",
      "Time:  0.36 , Iteration:  3 , Error:  3.6376372457993174e-14 , theta2: 76.2 , theta3: -62.4\n",
      "Time:  0.37 , Iteration:  3 , Error:  2.1867024472562122e-14 , theta2: 76.65 , theta3: -63.3\n",
      "Time:  0.38 , Iteration:  3 , Error:  1.67696818383315e-14 , theta2: 77.1 , theta3: -64.2\n",
      "Time:  0.39 , Iteration:  3 , Error:  2.6003889360007144e-14 , theta2: 77.55000000000001 , theta3: -65.1\n",
      "Time:  0.4 , Iteration:  3 , Error:  1.297631766998921e-14 , theta2: 78.00000000000001 , theta3: -66.0\n",
      "Time:  0.41000000000000003 , Iteration:  3 , Error:  1.3948055507458669e-14 , theta2: 78.45 , theta3: -66.9\n",
      "Time:  0.42 , Iteration:  3 , Error:  4.258950547377277e-14 , theta2: 78.9 , theta3: -67.8\n",
      "Time:  0.43 , Iteration:  3 , Error:  1.320984843223421e-14 , theta2: 79.35 , theta3: -68.7\n",
      "Time:  0.44 , Iteration:  3 , Error:  2.582032100271988e-14 , theta2: 79.8 , theta3: -69.6\n",
      "Time:  0.45 , Iteration:  3 , Error:  2.4941079835103698e-14 , theta2: 80.25000000000001 , theta3: -70.5\n",
      "Time:  0.46 , Iteration:  3 , Error:  1.9722245203075005e-14 , theta2: 80.7 , theta3: -71.4\n",
      "Time:  0.47000000000000003 , Iteration:  3 , Error:  2.5537190099075937e-14 , theta2: 81.15 , theta3: -72.30000000000001\n",
      "Time:  0.48 , Iteration:  3 , Error:  2.1529851488716268e-14 , theta2: 81.6 , theta3: -73.19999999999999\n",
      "Time:  0.49 , Iteration:  3 , Error:  1.0597504099746526e-14 , theta2: 82.05 , theta3: -74.10000000000001\n",
      "Time:  0.5 , Iteration:  3 , Error:  2.4316591721010552e-14 , theta2: 82.5 , theta3: -74.99999999999999\n",
      "Time:  0.51 , Iteration:  3 , Error:  1.4920207736166033e-14 , theta2: 82.95 , theta3: -75.9\n",
      "Time:  0.52 , Iteration:  3 , Error:  1.641420143460773e-14 , theta2: 83.4 , theta3: -76.8\n",
      "Time:  0.53 , Iteration:  3 , Error:  2.906423630766026e-14 , theta2: 83.85 , theta3: -77.70000000000002\n",
      "Time:  0.54 , Iteration:  3 , Error:  2.5098177628585478e-14 , theta2: 84.3 , theta3: -78.59999999999998\n",
      "Time:  0.55 , Iteration:  3 , Error:  2.2606009656627238e-14 , theta2: 84.75000000000001 , theta3: -79.50000000000001\n",
      "Time:  0.56 , Iteration:  3 , Error:  1.2033194056680869e-14 , theta2: 85.2 , theta3: -80.39999999999999\n",
      "Time:  0.5700000000000001 , Iteration:  3 , Error:  1.53882519020588e-14 , theta2: 85.65 , theta3: -81.30000000000001\n",
      "Time:  0.58 , Iteration:  3 , Error:  3.034191562788753e-14 , theta2: 86.1 , theta3: -82.19999999999999\n",
      "Time:  0.59 , Iteration:  3 , Error:  2.3325608550022448e-14 , theta2: 86.55000000000001 , theta3: -83.1\n",
      "Time:  0.6 , Iteration:  3 , Error:  7.288984482346129e-15 , theta2: 87.00000000000001 , theta3: -83.99999999999999\n",
      "Time:  0.61 , Iteration:  3 , Error:  1.6700803281038742e-14 , theta2: 87.45 , theta3: -84.9\n",
      "Time:  0.62 , Iteration:  3 , Error:  2.3526181983798606e-14 , theta2: 87.9 , theta3: -85.8\n",
      "Time:  0.63 , Iteration:  3 , Error:  3.870521987318716e-14 , theta2: 88.35 , theta3: -86.69999999999999\n",
      "Time:  0.64 , Iteration:  3 , Error:  3.43409883723532e-14 , theta2: 88.80000000000001 , theta3: -87.60000000000001\n",
      "Time:  0.65 , Iteration:  3 , Error:  1.8988281468974085e-14 , theta2: 89.25000000000001 , theta3: -88.5\n",
      "Time:  0.66 , Iteration:  3 , Error:  2.467876791002658e-14 , theta2: 89.7 , theta3: -89.4\n",
      "Time:  0.67 , Iteration:  3 , Error:  2.7731526967730463e-14 , theta2: 90.15 , theta3: -90.3\n",
      "Time:  0.68 , Iteration:  3 , Error:  3.5634825647025416e-14 , theta2: 90.60000000000001 , theta3: -91.19999999999999\n",
      "Time:  0.6900000000000001 , Iteration:  3 , Error:  1.5556396676918275e-14 , theta2: 91.05000000000001 , theta3: -92.10000000000001\n",
      "Time:  0.7000000000000001 , Iteration:  3 , Error:  2.008843904820428e-14 , theta2: 91.50000000000001 , theta3: -93.0\n",
      "Time:  0.71 , Iteration:  3 , Error:  2.1858855293720622e-14 , theta2: 91.95 , theta3: -93.89999999999998\n",
      "Time:  0.72 , Iteration:  3 , Error:  3.070523507408911e-14 , theta2: 92.4 , theta3: -94.8\n",
      "Time:  0.73 , Iteration:  3 , Error:  3.317235813750845e-14 , theta2: 92.85 , theta3: -95.69999999999999\n",
      "Time:  0.74 , Iteration:  3 , Error:  1.1560274929057754e-14 , theta2: 93.3 , theta3: -96.60000000000001\n",
      "Time:  0.75 , Iteration:  3 , Error:  3.332551113903819e-14 , theta2: 93.75 , theta3: -97.49999999999997\n",
      "Time:  0.76 , Iteration:  3 , Error:  2.1449046828582807e-14 , theta2: 94.2 , theta3: -98.4\n",
      "Time:  0.77 , Iteration:  3 , Error:  1.546328877545661e-14 , theta2: 94.65 , theta3: -99.3\n",
      "Time:  0.78 , Iteration:  3 , Error:  2.1839218417496897e-14 , theta2: 95.1 , theta3: -100.20000000000002\n",
      "Time:  0.79 , Iteration:  3 , Error:  2.8722480869838264e-14 , theta2: 95.55 , theta3: -101.09999999999998\n",
      "Time:  0.8 , Iteration:  3 , Error:  1.9613463582810152e-14 , theta2: 96.00000000000001 , theta3: -102.0\n",
      "Time:  0.81 , Iteration:  3 , Error:  1.9158170690373936e-14 , theta2: 96.45 , theta3: -102.9\n",
      "Time:  0.8200000000000001 , Iteration:  3 , Error:  2.7535811855674854e-14 , theta2: 96.9 , theta3: -103.80000000000003\n",
      "Time:  0.8300000000000001 , Iteration:  3 , Error:  2.0375571476329057e-14 , theta2: 97.35 , theta3: -104.69999999999999\n",
      "Time:  0.84 , Iteration:  3 , Error:  2.732258852259016e-14 , theta2: 97.80000000000001 , theta3: -105.59999999999998\n",
      "Time:  0.85 , Iteration:  3 , Error:  2.8231303340708516e-14 , theta2: 98.25000000000001 , theta3: -106.5\n",
      "Time:  0.86 , Iteration:  3 , Error:  3.600025058824986e-14 , theta2: 98.7 , theta3: -107.4\n",
      "Time:  0.87 , Iteration:  3 , Error:  2.5370362299891602e-14 , theta2: 99.15 , theta3: -108.3\n",
      "Time:  0.88 , Iteration:  3 , Error:  3.0825137759979254e-14 , theta2: 99.6 , theta3: -109.19999999999999\n",
      "Time:  0.89 , Iteration:  3 , Error:  2.9392688891019816e-14 , theta2: 100.05000000000001 , theta3: -110.10000000000001\n",
      "Time:  0.9 , Iteration:  3 , Error:  2.1385196995092794e-14 , theta2: 100.50000000000001 , theta3: -111.0\n",
      "Time:  0.91 , Iteration:  3 , Error:  2.33723450460741e-14 , theta2: 100.95 , theta3: -111.9\n",
      "Time:  0.92 , Iteration:  3 , Error:  2.3455081815728975e-14 , theta2: 101.4 , theta3: -112.8\n",
      "Time:  0.93 , Iteration:  3 , Error:  4.574340699429404e-14 , theta2: 101.85000000000001 , theta3: -113.70000000000002\n",
      "Time:  0.9400000000000001 , Iteration:  3 , Error:  3.7215935666144495e-14 , theta2: 102.30000000000001 , theta3: -114.60000000000002\n",
      "Time:  0.9500000000000001 , Iteration:  3 , Error:  1.404201681819596e-14 , theta2: 102.75000000000001 , theta3: -115.50000000000001\n",
      "Time:  0.96 , Iteration:  3 , Error:  4.164515707786206e-14 , theta2: 103.19999999999999 , theta3: -116.39999999999999\n",
      "Time:  0.97 , Iteration:  3 , Error:  3.8956062152440864e-14 , theta2: 103.65 , theta3: -117.30000000000001\n",
      "Time:  0.98 , Iteration:  3 , Error:  3.0166333273553204e-14 , theta2: 104.1 , theta3: -118.2\n",
      "Time:  0.99 , Iteration:  3 , Error:  1.6048650479873718e-14 , theta2: 104.55 , theta3: -119.10000000000002\n",
      "Time:  1.0 , Iteration:  3 , Error:  3.999099416590142e-14 , theta2: 105.0 , theta3: -119.99999999999999\n"
     ]
    },
    {
     "data": {
      "text/latex": [
       "$\\displaystyle \\left( \\left[\\begin{matrix}1.0 & 0 & 0 & 0 & 0 & 0 & 0 & 0 & 0\\\\0 & 1.0 & 0 & 0 & 0 & 0 & 0 & 0 & 0\\\\0 & 0 & 1.0 & 0 & 0 & 0 & 0 & 0 & 0\\\\0 & 0 & 0 & 1.0 & 0 & 193.185165257814 & 0 & 0 & 0\\\\0 & 0 & 0 & 0 & 1.0 & 51.7638090205041 & 0 & 0 & 0\\\\0 & 0 & 0 & 1.0 & 0 & -193.185165257814 & -1.0 & 0 & 129.903810567666\\\\0 & 0 & 0 & 0 & 1.0 & -51.7638090205041 & 0 & -1.0 & -74.9999999999999\\\\0 & 0 & 0 & 0 & 0 & 1.0 & 0 & 0 & 0\\\\0 & 0 & 0 & 0 & 0 & 0 & 0 & 0 & 1.0\\end{matrix}\\right], \\  \\left[\\begin{matrix}0\\\\0\\\\0\\\\-1.05047680162817 \\cdot 10^{-14}\\\\-1.23978960857186 \\cdot 10^{-14}\\\\3.37995027976103 \\cdot 10^{-14}\\\\-1.38846898215591 \\cdot 10^{-14}\\\\-5.6705286646445 \\cdot 10^{-17}\\\\1.65588806628412 \\cdot 10^{-16}\\end{matrix}\\right], \\  \\left[\\begin{matrix}0\\\\0\\\\0\\\\-4.49852155503455 \\cdot 10^{-16}\\\\9.46261445729903 \\cdot 10^{-15}\\\\5.6705286646445 \\cdot 10^{-17}\\\\8.84413501938573 \\cdot 10^{-16}\\\\5.06180350445129 \\cdot 10^{-15}\\\\-1.65588806628412 \\cdot 10^{-16}\\end{matrix}\\right], \\  \\left[\\begin{matrix}0\\\\0\\\\0\\\\-51.7638090205041\\\\193.185165257814\\\\\\frac{\\pi}{4} + 1.0471975511966\\\\-178.527618041008\\\\256.466519947962\\\\-2.61799387799149 + \\frac{\\pi}{6}\\end{matrix}\\right]\\right)$"
      ],
      "text/plain": [
       "⎛                                                                             \n",
       "⎜                                                                             \n",
       "⎜⎡1.0   0    0    0    0           0           0     0            0        ⎤  \n",
       "⎜⎢                                                                         ⎥  \n",
       "⎜⎢ 0   1.0   0    0    0           0           0     0            0        ⎥  \n",
       "⎜⎢                                                                         ⎥  \n",
       "⎜⎢ 0    0   1.0   0    0           0           0     0            0        ⎥  \n",
       "⎜⎢                                                                         ⎥  \n",
       "⎜⎢ 0    0    0   1.0   0   193.185165257814    0     0            0        ⎥  \n",
       "⎜⎢                                                                         ⎥  \n",
       "⎜⎢ 0    0    0    0   1.0  51.7638090205041    0     0            0        ⎥, \n",
       "⎜⎢                                                                         ⎥  \n",
       "⎜⎢ 0    0    0   1.0   0   -193.185165257814  -1.0   0    129.903810567666 ⎥  \n",
       "⎜⎢                                                                         ⎥  \n",
       "⎜⎢ 0    0    0    0   1.0  -51.7638090205041   0    -1.0  -74.9999999999999⎥  \n",
       "⎜⎢                                                                         ⎥  \n",
       "⎜⎢ 0    0    0    0    0          1.0          0     0            0        ⎥  \n",
       "⎜⎢                                                                         ⎥  \n",
       "⎜⎣ 0    0    0    0    0           0           0     0           1.0       ⎦  \n",
       "⎜                                                                             \n",
       "⎝                                                                             \n",
       "\n",
       "                                                  ⎡          0          ⎤⎞\n",
       "                                                  ⎢                     ⎥⎟\n",
       "⎡          0          ⎤  ⎡          0          ⎤  ⎢          0          ⎥⎟\n",
       "⎢                     ⎥  ⎢                     ⎥  ⎢                     ⎥⎟\n",
       "⎢          0          ⎥  ⎢          0          ⎥  ⎢          0          ⎥⎟\n",
       "⎢                     ⎥  ⎢                     ⎥  ⎢                     ⎥⎟\n",
       "⎢          0          ⎥  ⎢          0          ⎥  ⎢  -51.7638090205041  ⎥⎟\n",
       "⎢                     ⎥  ⎢                     ⎥  ⎢                     ⎥⎟\n",
       "⎢-1.05047680162817e-14⎥  ⎢-4.49852155503455e-16⎥  ⎢  193.185165257814   ⎥⎟\n",
       "⎢                     ⎥  ⎢                     ⎥  ⎢                     ⎥⎟\n",
       "⎢-1.23978960857186e-14⎥, ⎢9.46261445729903e-15 ⎥, ⎢ π                   ⎥⎟\n",
       "⎢                     ⎥  ⎢                     ⎥  ⎢ ─ + 1.0471975511966 ⎥⎟\n",
       "⎢3.37995027976103e-14 ⎥  ⎢ 5.6705286646445e-17 ⎥  ⎢ 4                   ⎥⎟\n",
       "⎢                     ⎥  ⎢                     ⎥  ⎢                     ⎥⎟\n",
       "⎢-1.38846898215591e-14⎥  ⎢8.84413501938573e-16 ⎥  ⎢  -178.527618041008  ⎥⎟\n",
       "⎢                     ⎥  ⎢                     ⎥  ⎢                     ⎥⎟\n",
       "⎢-5.6705286646445e-17 ⎥  ⎢5.06180350445129e-15 ⎥  ⎢  256.466519947962   ⎥⎟\n",
       "⎢                     ⎥  ⎢                     ⎥  ⎢                     ⎥⎟\n",
       "⎣1.65588806628412e-16 ⎦  ⎣-1.65588806628412e-16⎦  ⎢                    π⎥⎟\n",
       "                                                  ⎢-2.61799387799149 + ─⎥⎟\n",
       "                                                  ⎣                    6⎦⎠"
      ]
     },
     "execution_count": 108,
     "metadata": {},
     "output_type": "execute_result"
    }
   ],
   "source": [
    "# Valores iniciales\n",
    "# q_values = np.array([0, 0, 0, 100, 170, sp.pi/3, 330, 420, sp.pi/6]).reshape(-1, 1)\n",
    "q_values = np.array([1, -4, 10, 90, 150, sp.pi/4, 300, 400, sp.pi/6]).reshape(-1, 1)\n",
    "\n",
    "# Imprimir mediante sympy\n",
    "# sp.Matrix(q_values)\n",
    "\n",
    "\n",
    "# J_qt(t)*deltaQ = C_qt(t)\n",
    "for step in range(steps + 1):\n",
    "    i: int = 0\n",
    "    current_error: int = 1\n",
    "    while(i<max_iter and current_error > max_error):\n",
    "\n",
    "        # Construir lista de valores de q\n",
    "        q_values_list = [(R_1_x,    q_values[0][0]),\n",
    "                         (R_1_y,    q_values[1][0]),\n",
    "                         (theta_1,  q_values[2][0]),\n",
    "                         (R_2_x,    q_values[3][0]),\n",
    "                         (R_2_y,    q_values[4][0]),\n",
    "                         (theta_2,  q_values[5][0]),\n",
    "                         (R_3_x,    q_values[6][0]),\n",
    "                         (R_3_y,    q_values[7][0]),\n",
    "                         (theta_3,  q_values[8][0]),\n",
    "                         (t,       (time/steps) * step)]\n",
    "\n",
    "        # Calcular las matrices de coeficientes y Constantes\n",
    "        coefficients_matrix = np.array(J_qt.subs(q_values_list)).astype(np.float64)\n",
    "        constants_vector = np.array(C_qt.subs(q_values_list)).astype(np.float64)\n",
    "\n",
    "        # Calcular delta\n",
    "        delta_q = np.linalg.solve(coefficients_matrix, -constants_vector)\n",
    "\n",
    "        # Calcular nuevo q\n",
    "        q_values = q_values + delta_q\n",
    "\n",
    "        # Calcular error máximo\n",
    "        current_error = np.linalg.norm(constants_vector)\n",
    "\n",
    "        i = i + 1\n",
    "\n",
    "    # Print Time, Index, Error\n",
    "    print(\"Time: \", (time/steps) * step, \", Iteration: \", i,\", Error: \", current_error,\n",
    "          \", theta2:\",np.rad2deg(float((q_values[5][0]))), \", theta3:\",np.rad2deg(float((q_values[8][0]))))\n",
    "    # display(sp.Matrix(coefficients_matrix))\n",
    "    # display(sp.Matrix(constants_vector))\n",
    "    # display(sp.Matrix(delta_q))\n",
    "\n",
    "\n",
    "\n",
    "sp.Matrix(coefficients_matrix), sp.Matrix(constants_vector), sp.Matrix(delta_q), sp.Matrix(q_values)\n"
   ]
  },
  {
   "cell_type": "code",
   "execution_count": 109,
   "metadata": {},
   "outputs": [
    {
     "name": "stdout",
     "output_type": "stream",
     "text": [
      "-119.99999999999999\n"
     ]
    },
    {
     "data": {
      "text/latex": [
       "$\\displaystyle \\omega^{3}$"
      ],
      "text/plain": [
       "ω³"
      ]
     },
     "execution_count": 109,
     "metadata": {},
     "output_type": "execute_result"
    }
   ],
   "source": [
    "print(np.rad2deg(float(q_values[8][0])))\n",
    "omega_3"
   ]
  }
 ],
 "metadata": {
  "kernelspec": {
   "display_name": "Python 3",
   "language": "python",
   "name": "python3"
  },
  "language_info": {
   "codemirror_mode": {
    "name": "ipython",
    "version": 3
   },
   "file_extension": ".py",
   "mimetype": "text/x-python",
   "name": "python",
   "nbconvert_exporter": "python",
   "pygments_lexer": "ipython3",
   "version": "3.10.11"
  },
  "orig_nbformat": 4
 },
 "nbformat": 4,
 "nbformat_minor": 2
}
