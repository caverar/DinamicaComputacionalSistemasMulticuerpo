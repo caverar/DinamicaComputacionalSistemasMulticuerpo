{
 "cells": [
  {
   "cell_type": "markdown",
   "metadata": {},
   "source": [
    "# Librerías y Configuración"
   ]
  },
  {
   "cell_type": "code",
   "execution_count": 110,
   "metadata": {},
   "outputs": [],
   "source": [
    "from IPython.display import display                             # Liberia para imprimir variables\n",
    "import sympy as sp                                              # Librería CAS\n",
    "import numpy as np                                              # Librería de calculo numérico de matrices\n",
    "sp.init_printing(use_unicode = True, use_latex=\"mathjax\")       # Print en LateX"
   ]
  },
  {
   "cell_type": "markdown",
   "metadata": {},
   "source": [
    "# Planteamiento de ecuaciones"
   ]
  },
  {
   "cell_type": "markdown",
   "metadata": {},
   "source": [
    "### Variables Simbólicas"
   ]
  },
  {
   "cell_type": "code",
   "execution_count": 111,
   "metadata": {},
   "outputs": [
    {
     "data": {
      "text/latex": [
       "$\\displaystyle \\left( l^{2}, \\  l^{3}, \\  \\theta^{2}_{0}, \\  \\theta^{3}_{0}, \\  \\omega^{2}, \\  \\omega^{3}, \\  t, \\  \\left[\\begin{matrix}R^{1}_{x}\\\\R^{1}_{y}\\\\\\theta^{1}\\\\R^{2}_{x}\\\\R^{2}_{y}\\\\\\theta^{2}\\\\R^{3}_{x}\\\\R^{3}_{y}\\\\\\theta^{3}\\end{matrix}\\right]\\right)$"
      ],
      "text/plain": [
       "⎛                                       ⎡ R¹ₓ  ⎤⎞\n",
       "⎜                                       ⎢      ⎥⎟\n",
       "⎜                                       ⎢R_y__1⎥⎟\n",
       "⎜                                       ⎢      ⎥⎟\n",
       "⎜                                       ⎢  θ¹  ⎥⎟\n",
       "⎜                                       ⎢      ⎥⎟\n",
       "⎜                                       ⎢ R²ₓ  ⎥⎟\n",
       "⎜                                       ⎢      ⎥⎟\n",
       "⎜l², l³, \\theta²₀, \\theta³₀, ω², ω³, t, ⎢R_y__2⎥⎟\n",
       "⎜                                       ⎢      ⎥⎟\n",
       "⎜                                       ⎢  θ²  ⎥⎟\n",
       "⎜                                       ⎢      ⎥⎟\n",
       "⎜                                       ⎢ R³ₓ  ⎥⎟\n",
       "⎜                                       ⎢      ⎥⎟\n",
       "⎜                                       ⎢R_y__3⎥⎟\n",
       "⎜                                       ⎢      ⎥⎟\n",
       "⎝                                       ⎣  θ³  ⎦⎠"
      ]
     },
     "execution_count": 111,
     "metadata": {},
     "output_type": "execute_result"
    }
   ],
   "source": [
    "# Parámetros\n",
    "l_2 = sp.symbols(\"l__2\")                                        # Longitud del eslabón 2\n",
    "l_3 = sp.symbols(\"l__3\")                                        # Longitud del eslabón 3\n",
    "theta_2_0 = sp.symbols('\\\\theta__2_0')                          # Angulo inicial del eslabón 2\n",
    "theta_3_0 = sp.symbols(\"\\\\theta__3_0\")                          # Angulo inicial del eslabón 3\n",
    "omega_2 = sp.symbols(\"omega__2\")                                # Velocidad angular del eslabón 2\n",
    "omega_3 = sp.symbols(\"omega__3\")                                # Velocidad angular del eslabón 3\n",
    "\n",
    "# Incógnitas (q)\n",
    "R_1_x, R_1_y, theta_1 = sp.symbols('R^1_x R^1_y theta__1')      # Eslabón 1\n",
    "R_2_x, R_2_y, theta_2 = sp.symbols(\"R^2_x R^2_y theta__2\")      # Eslabón 2\n",
    "R_3_x, R_3_y, theta_3 = sp.symbols(\"R^3_x R^3_y theta__3\")      # Eslabón 3\n",
    "\n",
    "## Vector columna q\n",
    "q = sp.Matrix([R_1_x, R_1_y, theta_1, R_2_x, R_2_y, theta_2, R_3_x, R_3_y, theta_3])\n",
    "\n",
    "# Variable de tiempo\n",
    "t = sp.symbols(\"t\")\n",
    "\n",
    "# Imprimir tupla con variables para verificar\n",
    "\n",
    "l_2, l_3, theta_2_0, theta_3_0, omega_2, omega_3, t,q\n"
   ]
  },
  {
   "cell_type": "code",
   "execution_count": 112,
   "metadata": {},
   "outputs": [
    {
     "data": {
      "text/latex": [
       "$\\displaystyle \\left( R^{1}_{x}, \\  R^{1}_{y}, \\  \\theta^{1}, \\  R^{2}_{x} - \\frac{l^{2} \\cos{\\left(\\theta^{2} \\right)}}{2}, \\  R^{2}_{y} - \\frac{l^{2} \\sin{\\left(\\theta^{2} \\right)}}{2}, \\  R^{2}_{x} - R^{3}_{x} + \\frac{l^{2} \\cos{\\left(\\theta^{2} \\right)}}{2} + \\frac{l^{3} \\cos{\\left(\\theta^{3} \\right)}}{2}, \\  R^{2}_{y} - R^{3}_{y} + \\frac{l^{2} \\sin{\\left(\\theta^{2} \\right)}}{2} + \\frac{l^{3} \\sin{\\left(\\theta^{3} \\right)}}{2}, \\  - \\theta^{2}_{0} - \\omega^{2} t + \\theta^{2}, \\  - \\theta^{3}_{0} - \\omega^{3} t + \\theta^{3}\\right)$"
      ],
      "text/plain": [
       "⎛                       l²⋅cos(θ²)           l²⋅sin(θ²)              l²⋅cos(θ²\n",
       "⎜R¹ₓ, R_y__1, θ¹, R²ₓ - ──────────, R_y__2 - ──────────, R²ₓ - R³ₓ + ─────────\n",
       "⎝                           2                    2                       2    \n",
       "\n",
       ")   l³⋅cos(θ³)                    l²⋅sin(θ²)   l³⋅sin(θ³)                     \n",
       "─ + ──────────, R_y__2 - R_y__3 + ────────── + ──────────, -\\theta²₀ - ω²⋅t + \n",
       "        2                             2            2                          \n",
       "\n",
       "                         ⎞\n",
       "θ², -\\theta³₀ - ω³⋅t + θ³⎟\n",
       "                         ⎠"
      ]
     },
     "execution_count": 112,
     "metadata": {},
     "output_type": "execute_result"
    }
   ],
   "source": [
    "# Ecuaciones de Juntas: (igualadas a 0)\n",
    "## Junta Fija\n",
    "e1 = R_1_x\n",
    "e2 = R_1_y\n",
    "e3 = theta_1\n",
    "\n",
    "## Junta R2\n",
    "e4 = R_2_x - ((l_2/2) * sp.cos(theta_2))\n",
    "e5 = R_2_y - ((l_2/2) * sp.sin(theta_2))\n",
    "\n",
    "## Junta R3\n",
    "e6 = R_2_x + ((l_2/2) * sp.cos(theta_2)) - R_3_x + ((l_3/2) * sp.cos(theta_3))\n",
    "e7 = R_2_y + ((l_2/2) * sp.sin(theta_2)) - R_3_y + ((l_3/2) * sp.sin(theta_3))\n",
    "\n",
    "## Ecuaciones de gobierno para ambas juntas\n",
    "e8 = theta_2 - theta_2_0 - (omega_2*t)\n",
    "e9 = theta_3 - theta_3_0 - (omega_3*t)\n",
    "\n",
    "# Imprimir tupla con ecuaciones para verificar\n",
    "e1, e2, e3, e4, e5, e6, e7, e8, e9"
   ]
  },
  {
   "cell_type": "markdown",
   "metadata": {},
   "source": [
    "### Matrices de Calculo"
   ]
  },
  {
   "cell_type": "code",
   "execution_count": 113,
   "metadata": {},
   "outputs": [
    {
     "data": {
      "text/latex": [
       "$\\displaystyle \\left( \\left[\\begin{matrix}R^{1}_{x}\\\\R^{1}_{y}\\\\\\theta^{1}\\\\R^{2}_{x} - \\frac{l^{2} \\cos{\\left(\\theta^{2} \\right)}}{2}\\\\R^{2}_{y} - \\frac{l^{2} \\sin{\\left(\\theta^{2} \\right)}}{2}\\\\R^{2}_{x} - R^{3}_{x} + \\frac{l^{2} \\cos{\\left(\\theta^{2} \\right)}}{2} + \\frac{l^{3} \\cos{\\left(\\theta^{3} \\right)}}{2}\\\\R^{2}_{y} - R^{3}_{y} + \\frac{l^{2} \\sin{\\left(\\theta^{2} \\right)}}{2} + \\frac{l^{3} \\sin{\\left(\\theta^{3} \\right)}}{2}\\\\- \\theta^{2}_{0} - \\omega^{2} t + \\theta^{2}\\\\- \\theta^{3}_{0} - \\omega^{3} t + \\theta^{3}\\end{matrix}\\right], \\  \\left[\\begin{matrix}1 & 0 & 0 & 0 & 0 & 0 & 0 & 0 & 0\\\\0 & 1 & 0 & 0 & 0 & 0 & 0 & 0 & 0\\\\0 & 0 & 1 & 0 & 0 & 0 & 0 & 0 & 0\\\\0 & 0 & 0 & 1 & 0 & \\frac{l^{2} \\sin{\\left(\\theta^{2} \\right)}}{2} & 0 & 0 & 0\\\\0 & 0 & 0 & 0 & 1 & - \\frac{l^{2} \\cos{\\left(\\theta^{2} \\right)}}{2} & 0 & 0 & 0\\\\0 & 0 & 0 & 1 & 0 & - \\frac{l^{2} \\sin{\\left(\\theta^{2} \\right)}}{2} & -1 & 0 & - \\frac{l^{3} \\sin{\\left(\\theta^{3} \\right)}}{2}\\\\0 & 0 & 0 & 0 & 1 & \\frac{l^{2} \\cos{\\left(\\theta^{2} \\right)}}{2} & 0 & -1 & \\frac{l^{3} \\cos{\\left(\\theta^{3} \\right)}}{2}\\\\0 & 0 & 0 & 0 & 0 & 1 & 0 & 0 & 0\\\\0 & 0 & 0 & 0 & 0 & 0 & 0 & 0 & 1\\end{matrix}\\right]\\right)$"
      ],
      "text/plain": [
       "⎛⎡                   R¹ₓ                   ⎤  ⎡1  0  0  0  0       0        0 \n",
       "⎜⎢                                         ⎥  ⎢                               \n",
       "⎜⎢                 R_y__1                  ⎥  ⎢0  1  0  0  0       0        0 \n",
       "⎜⎢                                         ⎥  ⎢                               \n",
       "⎜⎢                   θ¹                    ⎥  ⎢0  0  1  0  0       0        0 \n",
       "⎜⎢                                         ⎥  ⎢                               \n",
       "⎜⎢                  l²⋅cos(θ²)             ⎥  ⎢                l²⋅sin(θ²)     \n",
       "⎜⎢            R²ₓ - ──────────             ⎥  ⎢0  0  0  1  0   ──────────   0 \n",
       "⎜⎢                      2                  ⎥  ⎢                    2          \n",
       "⎜⎢                                         ⎥  ⎢                               \n",
       "⎜⎢                    l²⋅sin(θ²)           ⎥  ⎢               -l²⋅cos(θ²)     \n",
       "⎜⎢           R_y__2 - ──────────           ⎥  ⎢0  0  0  0  1  ────────────  0 \n",
       "⎜⎢                        2                ⎥, ⎢                    2          \n",
       "⎜⎢                                         ⎥  ⎢                               \n",
       "⎜⎢               l²⋅cos(θ²)   l³⋅cos(θ³)   ⎥  ⎢               -l²⋅sin(θ²)     \n",
       "⎜⎢   R²ₓ - R³ₓ + ────────── + ──────────   ⎥  ⎢0  0  0  1  0  ────────────  -1\n",
       "⎜⎢                   2            2        ⎥  ⎢                    2          \n",
       "⎜⎢                                         ⎥  ⎢                               \n",
       "⎜⎢                  l²⋅sin(θ²)   l³⋅sin(θ³)⎥  ⎢                l²⋅cos(θ²)     \n",
       "⎜⎢R_y__2 - R_y__3 + ────────── + ──────────⎥  ⎢0  0  0  0  1   ──────────   0 \n",
       "⎜⎢                      2            2     ⎥  ⎢                    2          \n",
       "⎜⎢                                         ⎥  ⎢                               \n",
       "⎜⎢          -\\theta²₀ - ω²⋅t + θ²          ⎥  ⎢0  0  0  0  0       1        0 \n",
       "⎜⎢                                         ⎥  ⎢                               \n",
       "⎝⎣          -\\theta³₀ - ω³⋅t + θ³          ⎦  ⎣0  0  0  0  0       0        0 \n",
       "\n",
       "  0        0      ⎤⎞\n",
       "                  ⎥⎟\n",
       "  0        0      ⎥⎟\n",
       "                  ⎥⎟\n",
       "  0        0      ⎥⎟\n",
       "                  ⎥⎟\n",
       "                  ⎥⎟\n",
       "  0        0      ⎥⎟\n",
       "                  ⎥⎟\n",
       "                  ⎥⎟\n",
       "                  ⎥⎟\n",
       "  0        0      ⎥⎟\n",
       "                  ⎥⎟\n",
       "                  ⎥⎟\n",
       "      -l³⋅sin(θ³) ⎥⎟\n",
       "  0   ────────────⎥⎟\n",
       "           2      ⎥⎟\n",
       "                  ⎥⎟\n",
       "       l³⋅cos(θ³) ⎥⎟\n",
       "  -1   ────────── ⎥⎟\n",
       "           2      ⎥⎟\n",
       "                  ⎥⎟\n",
       "  0        0      ⎥⎟\n",
       "                  ⎥⎟\n",
       "  0        1      ⎦⎠"
      ]
     },
     "execution_count": 113,
     "metadata": {},
     "output_type": "execute_result"
    }
   ],
   "source": [
    "# Vector de ecuaciones de restricción\n",
    "C_qt = sp.Matrix([e1, e2, e3, e4, e5, e6, e7, e8, e9])\n",
    "# Matriz Jacobiana\n",
    "J_qt = C_qt.jacobian(q)\n",
    "\n",
    "C_qt, J_qt"
   ]
  },
  {
   "cell_type": "markdown",
   "metadata": {},
   "source": [
    "# Calculo numérico"
   ]
  },
  {
   "cell_type": "markdown",
   "metadata": {},
   "source": [
    "### Parámetros"
   ]
  },
  {
   "cell_type": "code",
   "execution_count": 114,
   "metadata": {},
   "outputs": [],
   "source": [
    "# Lista con parámetros del mecanismo\n",
    "mechanism_parameters = [ # Eslabón 2\n",
    "                        (l_2, 400),                     # Distancia en mm\n",
    "                        (theta_2_0, sp.pi/3),           # Angulo inicial 60°\n",
    "                        (omega_2, sp.pi/4),             # 45°/s\n",
    "                        # Eslabón 3\n",
    "                        (l_3, 300),                     # Distancia en mm\n",
    "                        (theta_3_0, sp.pi/6),           # Angulo inicial 30° (-30° relativo al eslabón 2)\n",
    "                        (omega_3, -sp.pi/2 + sp.pi/4)]  # -45°/s (-90°/s relativa a l eslabón 3)\n",
    "\n",
    "\n",
    "## Parámetros de simulación\n",
    "max_iter = 10           # Numero de iteraciones\n",
    "max_error = 1e-8        # Error admisible\n",
    "steps = 100             # Numero de muestras por segundo\n",
    "time = 1                # Tiempo de simulación en segundos\n"
   ]
  },
  {
   "cell_type": "markdown",
   "metadata": {},
   "source": [
    "### Remplazar parámetros en matrices"
   ]
  },
  {
   "cell_type": "code",
   "execution_count": 115,
   "metadata": {},
   "outputs": [
    {
     "data": {
      "text/latex": [
       "$\\displaystyle \\left( \\left[\\begin{matrix}R^{1}_{x}\\\\R^{1}_{y}\\\\\\theta^{1}\\\\R^{2}_{x} - 200 \\cos{\\left(\\theta^{2} \\right)}\\\\R^{2}_{y} - 200 \\sin{\\left(\\theta^{2} \\right)}\\\\R^{2}_{x} - R^{3}_{x} + 200 \\cos{\\left(\\theta^{2} \\right)} + 150 \\cos{\\left(\\theta^{3} \\right)}\\\\R^{2}_{y} - R^{3}_{y} + 200 \\sin{\\left(\\theta^{2} \\right)} + 150 \\sin{\\left(\\theta^{3} \\right)}\\\\- \\frac{\\pi t}{4} + \\theta^{2} - \\frac{\\pi}{3}\\\\\\frac{\\pi t}{4} + \\theta^{3} - \\frac{\\pi}{6}\\end{matrix}\\right], \\  \\left[\\begin{matrix}1 & 0 & 0 & 0 & 0 & 0 & 0 & 0 & 0\\\\0 & 1 & 0 & 0 & 0 & 0 & 0 & 0 & 0\\\\0 & 0 & 1 & 0 & 0 & 0 & 0 & 0 & 0\\\\0 & 0 & 0 & 1 & 0 & 200 \\sin{\\left(\\theta^{2} \\right)} & 0 & 0 & 0\\\\0 & 0 & 0 & 0 & 1 & - 200 \\cos{\\left(\\theta^{2} \\right)} & 0 & 0 & 0\\\\0 & 0 & 0 & 1 & 0 & - 200 \\sin{\\left(\\theta^{2} \\right)} & -1 & 0 & - 150 \\sin{\\left(\\theta^{3} \\right)}\\\\0 & 0 & 0 & 0 & 1 & 200 \\cos{\\left(\\theta^{2} \\right)} & 0 & -1 & 150 \\cos{\\left(\\theta^{3} \\right)}\\\\0 & 0 & 0 & 0 & 0 & 1 & 0 & 0 & 0\\\\0 & 0 & 0 & 0 & 0 & 0 & 0 & 0 & 1\\end{matrix}\\right]\\right)$"
      ],
      "text/plain": [
       "⎛⎡                    R¹ₓ                    ⎤                                \n",
       "⎜⎢                                           ⎥                                \n",
       "⎜⎢                  R_y__1                   ⎥  ⎡1  0  0  0  0       0        \n",
       "⎜⎢                                           ⎥  ⎢                             \n",
       "⎜⎢                    θ¹                     ⎥  ⎢0  1  0  0  0       0        \n",
       "⎜⎢                                           ⎥  ⎢                             \n",
       "⎜⎢             R²ₓ - 200⋅cos(θ²)             ⎥  ⎢0  0  1  0  0       0        \n",
       "⎜⎢                                           ⎥  ⎢                             \n",
       "⎜⎢           R_y__2 - 200⋅sin(θ²)            ⎥  ⎢0  0  0  1  0  200⋅sin(θ²)   \n",
       "⎜⎢                                           ⎥  ⎢                             \n",
       "⎜⎢   R²ₓ - R³ₓ + 200⋅cos(θ²) + 150⋅cos(θ³)   ⎥, ⎢0  0  0  0  1  -200⋅cos(θ²)  \n",
       "⎜⎢                                           ⎥  ⎢                             \n",
       "⎜⎢R_y__2 - R_y__3 + 200⋅sin(θ²) + 150⋅sin(θ³)⎥  ⎢0  0  0  1  0  -200⋅sin(θ²)  \n",
       "⎜⎢                                           ⎥  ⎢                             \n",
       "⎜⎢                π⋅t        π               ⎥  ⎢0  0  0  0  1  200⋅cos(θ²)   \n",
       "⎜⎢              - ─── + θ² - ─               ⎥  ⎢                             \n",
       "⎜⎢                 4         3               ⎥  ⎢0  0  0  0  0       1        \n",
       "⎜⎢                                           ⎥  ⎢                             \n",
       "⎜⎢               π⋅t        π                ⎥  ⎣0  0  0  0  0       0        \n",
       "⎜⎢               ─── + θ³ - ─                ⎥                                \n",
       "⎝⎣                4         6                ⎦                                \n",
       "\n",
       "                     ⎞\n",
       "                     ⎟\n",
       "0   0        0      ⎤⎟\n",
       "                    ⎥⎟\n",
       "0   0        0      ⎥⎟\n",
       "                    ⎥⎟\n",
       "0   0        0      ⎥⎟\n",
       "                    ⎥⎟\n",
       "0   0        0      ⎥⎟\n",
       "                    ⎥⎟\n",
       "0   0        0      ⎥⎟\n",
       "                    ⎥⎟\n",
       "-1  0   -150⋅sin(θ³)⎥⎟\n",
       "                    ⎥⎟\n",
       "0   -1  150⋅cos(θ³) ⎥⎟\n",
       "                    ⎥⎟\n",
       "0   0        0      ⎥⎟\n",
       "                    ⎥⎟\n",
       "0   0        1      ⎦⎟\n",
       "                     ⎟\n",
       "                     ⎠"
      ]
     },
     "execution_count": 115,
     "metadata": {},
     "output_type": "execute_result"
    }
   ],
   "source": [
    "\n",
    "C_qt = C_qt.subs(mechanism_parameters)\n",
    "J_qt = J_qt.subs(mechanism_parameters)\n",
    "\n",
    "C_qt, J_qt"
   ]
  },
  {
   "cell_type": "markdown",
   "metadata": {},
   "source": [
    "### Aplicación de método de Newton-Raphson"
   ]
  },
  {
   "cell_type": "code",
   "execution_count": 116,
   "metadata": {},
   "outputs": [],
   "source": [
    "# q_values = np.array([0, 0, 0, 100, 170, sp.pi/3, 330, 420, sp.pi/6])\n",
    "# print(q_values[0])\n",
    "# q_values_list = [(R_1_x,    q_values[0]),\n",
    "#                  (R_1_y,    q_values[1]),\n",
    "#                  (theta_1,  q_values[2]),\n",
    "#                  (R_2_x,    q_values[3]),\n",
    "#                  (R_2_y,    q_values[4]),\n",
    "#                  (theta_2,  q_values[5]),\n",
    "#                  (R_3_x,    q_values[6]),\n",
    "#                  (R_3_y,    q_values[7]),\n",
    "#                  (theta_3,  q_values[8]),\n",
    "#                  (t,       (time/steps) * 1)]\n",
    "# q_values_list\n",
    "# C_qt.subs(q_values_list)"
   ]
  },
  {
   "cell_type": "code",
   "execution_count": 117,
   "metadata": {},
   "outputs": [
    {
     "name": "stdout",
     "output_type": "stream",
     "text": [
      "Time:  0.0 , Iteration:  3 , Error:  5.780400980935484e-15 , theta2: 60.00000000000001 , theta3: 30.000000000000004\n",
      "Time:  0.01 , Iteration:  3 , Error:  1.8904834894247387e-14 , theta2: 60.45 , theta3: 29.55\n",
      "Time:  0.02 , Iteration:  3 , Error:  3.817673634524512e-14 , theta2: 60.900000000000006 , theta3: 29.1\n",
      "Time:  0.03 , Iteration:  3 , Error:  2.874299537985512e-14 , theta2: 61.35 , theta3: 28.65\n",
      "Time:  0.04 , Iteration:  3 , Error:  1.2114748026506646e-14 , theta2: 61.8 , theta3: 28.200000000000003\n",
      "Time:  0.05 , Iteration:  3 , Error:  1.9049926795113028e-14 , theta2: 62.24999999999999 , theta3: 27.75\n",
      "Time:  0.06 , Iteration:  3 , Error:  3.9047351063222884e-14 , theta2: 62.7 , theta3: 27.3\n",
      "Time:  0.07 , Iteration:  3 , Error:  2.4784080883368884e-14 , theta2: 63.150000000000006 , theta3: 26.85\n",
      "Time:  0.08 , Iteration:  3 , Error:  1.4614008280364398e-14 , theta2: 63.6 , theta3: 26.400000000000002\n",
      "Time:  0.09 , Iteration:  3 , Error:  6.508140977072067e-14 , theta2: 64.05 , theta3: 25.950000000000003\n",
      "Time:  0.1 , Iteration:  3 , Error:  2.2012489789382477e-14 , theta2: 64.50000000000001 , theta3: 25.5\n",
      "Time:  0.11 , Iteration:  3 , Error:  1.88031045472572e-14 , theta2: 64.95 , theta3: 25.05\n",
      "Time:  0.12 , Iteration:  3 , Error:  2.212732703156338e-14 , theta2: 65.4 , theta3: 24.6\n",
      "Time:  0.13 , Iteration:  3 , Error:  1.7014248668671626e-14 , theta2: 65.85 , theta3: 24.150000000000002\n",
      "Time:  0.14 , Iteration:  3 , Error:  2.213920371479312e-14 , theta2: 66.3 , theta3: 23.700000000000003\n",
      "Time:  0.15 , Iteration:  3 , Error:  2.4509476478370012e-14 , theta2: 66.75 , theta3: 23.25\n",
      "Time:  0.16 , Iteration:  3 , Error:  2.032760656412737e-14 , theta2: 67.2 , theta3: 22.8\n",
      "Time:  0.17 , Iteration:  3 , Error:  4.5029849684308815e-14 , theta2: 67.65 , theta3: 22.35\n",
      "Time:  0.18 , Iteration:  3 , Error:  1.9754958232947288e-14 , theta2: 68.1 , theta3: 21.900000000000002\n",
      "Time:  0.19 , Iteration:  3 , Error:  4.332410927632193e-14 , theta2: 68.55 , theta3: 21.450000000000003\n",
      "Time:  0.2 , Iteration:  3 , Error:  1.7774256381280918e-14 , theta2: 69.00000000000001 , theta3: 21.0\n",
      "Time:  0.21 , Iteration:  3 , Error:  4.3148336389115746e-14 , theta2: 69.45 , theta3: 20.55\n",
      "Time:  0.22 , Iteration:  3 , Error:  2.2590528774362552e-14 , theta2: 69.9 , theta3: 20.1\n",
      "Time:  0.23 , Iteration:  3 , Error:  4.8215499961741134e-14 , theta2: 70.35 , theta3: 19.650000000000002\n",
      "Time:  0.24 , Iteration:  3 , Error:  3.93550123933947e-14 , theta2: 70.8 , theta3: 19.200000000000003\n",
      "Time:  0.25 , Iteration:  3 , Error:  4.893900000597526e-14 , theta2: 71.25 , theta3: 18.75\n",
      "Time:  0.26 , Iteration:  3 , Error:  4.118085529049418e-14 , theta2: 71.7 , theta3: 18.3\n",
      "Time:  0.27 , Iteration:  3 , Error:  2.557054613689029e-14 , theta2: 72.15 , theta3: 17.85\n",
      "Time:  0.28 , Iteration:  3 , Error:  1.658455939028237e-14 , theta2: 72.6 , theta3: 17.4\n",
      "Time:  0.29 , Iteration:  3 , Error:  1.8540106450968116e-14 , theta2: 73.05 , theta3: 16.950000000000003\n",
      "Time:  0.3 , Iteration:  3 , Error:  1.7739669007452696e-14 , theta2: 73.5 , theta3: 16.5\n",
      "Time:  0.31 , Iteration:  3 , Error:  3.065872445696732e-14 , theta2: 73.95 , theta3: 16.05\n",
      "Time:  0.32 , Iteration:  3 , Error:  1.8158000476514565e-14 , theta2: 74.4 , theta3: 15.6\n",
      "Time:  0.33 , Iteration:  3 , Error:  1.9710742432270603e-14 , theta2: 74.85 , theta3: 15.149999999999999\n",
      "Time:  0.34 , Iteration:  3 , Error:  1.9101753929777977e-14 , theta2: 75.3 , theta3: 14.7\n",
      "Time:  0.35000000000000003 , Iteration:  3 , Error:  3.468218927266309e-14 , theta2: 75.75000000000001 , theta3: 14.249999999999998\n",
      "Time:  0.36 , Iteration:  3 , Error:  2.986876031721974e-14 , theta2: 76.2 , theta3: 13.8\n",
      "Time:  0.37 , Iteration:  3 , Error:  2.4225233687540634e-14 , theta2: 76.65 , theta3: 13.35\n",
      "Time:  0.38 , Iteration:  3 , Error:  3.258498495890122e-14 , theta2: 77.1 , theta3: 12.899999999999999\n",
      "Time:  0.39 , Iteration:  3 , Error:  1.7848017245747235e-14 , theta2: 77.55000000000001 , theta3: 12.45\n",
      "Time:  0.4 , Iteration:  3 , Error:  2.09514926996615e-14 , theta2: 78.00000000000001 , theta3: 11.999999999999998\n",
      "Time:  0.41000000000000003 , Iteration:  3 , Error:  1.3823861420415156e-14 , theta2: 78.45 , theta3: 11.55\n",
      "Time:  0.42 , Iteration:  3 , Error:  1.661769206989199e-14 , theta2: 78.9 , theta3: 11.1\n",
      "Time:  0.43 , Iteration:  3 , Error:  3.297796804061841e-14 , theta2: 79.35 , theta3: 10.649999999999999\n",
      "Time:  0.44 , Iteration:  3 , Error:  2.3284474342997863e-14 , theta2: 79.8 , theta3: 10.200000000000001\n",
      "Time:  0.45 , Iteration:  3 , Error:  1.907230285626168e-14 , theta2: 80.25000000000001 , theta3: 9.750000000000002\n",
      "Time:  0.46 , Iteration:  3 , Error:  1.9868947652517126e-14 , theta2: 80.7 , theta3: 9.3\n",
      "Time:  0.47000000000000003 , Iteration:  3 , Error:  4.047648128437598e-14 , theta2: 81.15 , theta3: 8.85\n",
      "Time:  0.48 , Iteration:  3 , Error:  1.7282347199164672e-14 , theta2: 81.6 , theta3: 8.400000000000002\n",
      "Time:  0.49 , Iteration:  3 , Error:  2.1727330018841637e-14 , theta2: 82.05 , theta3: 7.950000000000002\n",
      "Time:  0.5 , Iteration:  3 , Error:  2.043212388819427e-14 , theta2: 82.5 , theta3: 7.500000000000001\n",
      "Time:  0.51 , Iteration:  3 , Error:  2.396754617074106e-14 , theta2: 82.95 , theta3: 7.050000000000001\n",
      "Time:  0.52 , Iteration:  3 , Error:  3.0315804143458926e-14 , theta2: 83.4 , theta3: 6.6\n",
      "Time:  0.53 , Iteration:  3 , Error:  3.4880811574044606e-14 , theta2: 83.85 , theta3: 6.1499999999999995\n",
      "Time:  0.54 , Iteration:  3 , Error:  3.373647532507122e-14 , theta2: 84.3 , theta3: 5.699999999999998\n",
      "Time:  0.55 , Iteration:  3 , Error:  1.4705441114793267e-14 , theta2: 84.75000000000001 , theta3: 5.249999999999998\n",
      "Time:  0.56 , Iteration:  3 , Error:  1.3746296471508566e-14 , theta2: 85.2 , theta3: 4.799999999999997\n",
      "Time:  0.5700000000000001 , Iteration:  3 , Error:  1.9241813861956164e-14 , theta2: 85.65 , theta3: 4.349999999999997\n",
      "Time:  0.58 , Iteration:  3 , Error:  2.72532130255995e-14 , theta2: 86.1 , theta3: 3.900000000000002\n",
      "Time:  0.59 , Iteration:  3 , Error:  1.843003697390766e-14 , theta2: 86.55000000000001 , theta3: 3.4500000000000015\n",
      "Time:  0.6 , Iteration:  3 , Error:  3.269762203144925e-14 , theta2: 87.00000000000001 , theta3: 3.000000000000001\n",
      "Time:  0.61 , Iteration:  3 , Error:  2.6580487076202997e-14 , theta2: 87.45 , theta3: 2.5500000000000003\n",
      "Time:  0.62 , Iteration:  3 , Error:  2.2603033971251074e-14 , theta2: 87.9 , theta3: 2.0999999999999996\n",
      "Time:  0.63 , Iteration:  3 , Error:  2.798757855483352e-14 , theta2: 88.35 , theta3: 1.6499999999999992\n",
      "Time:  0.64 , Iteration:  3 , Error:  2.0595389943666905e-14 , theta2: 88.80000000000001 , theta3: 1.1999999999999986\n",
      "Time:  0.65 , Iteration:  3 , Error:  2.826315937933381e-14 , theta2: 89.25000000000001 , theta3: 0.7500000000000011\n",
      "Time:  0.66 , Iteration:  3 , Error:  4.042414143752817e-14 , theta2: 89.7 , theta3: 0.2999999999999973\n",
      "Time:  0.67 , Iteration:  3 , Error:  2.8443754041591034e-14 , theta2: 90.15 , theta3: -0.1500000000000001\n",
      "Time:  0.68 , Iteration:  3 , Error:  2.9983591682317515e-14 , theta2: 90.60000000000001 , theta3: -0.600000000000004\n",
      "Time:  0.6900000000000001 , Iteration:  3 , Error:  1.1339484460680312e-14 , theta2: 91.05000000000001 , theta3: -1.0500000000000014\n",
      "Time:  0.7000000000000001 , Iteration:  3 , Error:  3.990537334809483e-14 , theta2: 91.50000000000001 , theta3: -1.500000000000005\n",
      "Time:  0.71 , Iteration:  3 , Error:  2.47958486049481e-14 , theta2: 91.95 , theta3: -1.9499999999999964\n",
      "Time:  0.72 , Iteration:  3 , Error:  3.557391655333668e-14 , theta2: 92.4 , theta3: -2.4000000000000004\n",
      "Time:  0.73 , Iteration:  3 , Error:  3.9713709917468555e-14 , theta2: 92.85 , theta3: -2.849999999999998\n",
      "Time:  0.74 , Iteration:  3 , Error:  6.6093097553329775e-15 , theta2: 93.3 , theta3: -3.3000000000000016\n",
      "Time:  0.75 , Iteration:  3 , Error:  2.3878374678444073e-14 , theta2: 93.75 , theta3: -3.749999999999999\n",
      "Time:  0.76 , Iteration:  3 , Error:  3.231486809467082e-14 , theta2: 94.2 , theta3: -4.200000000000003\n",
      "Time:  0.77 , Iteration:  3 , Error:  1.445474811893191e-14 , theta2: 94.65 , theta3: -4.65\n",
      "Time:  0.78 , Iteration:  3 , Error:  1.1741092477272922e-14 , theta2: 95.1 , theta3: -5.100000000000004\n",
      "Time:  0.79 , Iteration:  3 , Error:  2.443765083108208e-14 , theta2: 95.55 , theta3: -5.550000000000002\n",
      "Time:  0.8 , Iteration:  3 , Error:  2.235305838742309e-14 , theta2: 96.00000000000001 , theta3: -6.000000000000005\n",
      "Time:  0.81 , Iteration:  3 , Error:  1.1553975215946871e-14 , theta2: 96.45 , theta3: -6.450000000000003\n",
      "Time:  0.8200000000000001 , Iteration:  3 , Error:  7.192013312286827e-15 , theta2: 96.9 , theta3: -6.9\n",
      "Time:  0.8300000000000001 , Iteration:  3 , Error:  2.221144978954286e-14 , theta2: 97.35 , theta3: -7.350000000000004\n",
      "Time:  0.84 , Iteration:  3 , Error:  1.4040759094355882e-14 , theta2: 97.80000000000001 , theta3: -7.800000000000002\n",
      "Time:  0.85 , Iteration:  3 , Error:  2.3078530076272e-14 , theta2: 98.25000000000001 , theta3: -8.249999999999998\n",
      "Time:  0.86 , Iteration:  3 , Error:  3.643035382436485e-14 , theta2: 98.7 , theta3: -8.700000000000003\n",
      "Time:  0.87 , Iteration:  3 , Error:  4.4217342889457955e-14 , theta2: 99.15 , theta3: -9.15\n",
      "Time:  0.88 , Iteration:  3 , Error:  1.5485309906886577e-14 , theta2: 99.6 , theta3: -9.599999999999998\n",
      "Time:  0.89 , Iteration:  3 , Error:  2.4696005910251208e-14 , theta2: 100.05000000000001 , theta3: -10.05\n",
      "Time:  0.9 , Iteration:  3 , Error:  2.6456285692483255e-14 , theta2: 100.50000000000001 , theta3: -10.499999999999998\n",
      "Time:  0.91 , Iteration:  3 , Error:  1.4600873964949878e-14 , theta2: 100.95 , theta3: -10.950000000000003\n",
      "Time:  0.92 , Iteration:  3 , Error:  1.2871587163943515e-14 , theta2: 101.4 , theta3: -11.4\n",
      "Time:  0.93 , Iteration:  3 , Error:  1.3302342167872963e-14 , theta2: 101.85000000000001 , theta3: -11.850000000000003\n",
      "Time:  0.9400000000000001 , Iteration:  3 , Error:  2.7586460138513675e-14 , theta2: 102.30000000000001 , theta3: -12.3\n",
      "Time:  0.9500000000000001 , Iteration:  3 , Error:  1.6158750505259047e-14 , theta2: 102.75000000000001 , theta3: -12.750000000000005\n",
      "Time:  0.96 , Iteration:  3 , Error:  1.873655234653836e-14 , theta2: 103.19999999999999 , theta3: -13.199999999999996\n",
      "Time:  0.97 , Iteration:  3 , Error:  4.826380366179059e-14 , theta2: 103.65 , theta3: -13.65\n",
      "Time:  0.98 , Iteration:  3 , Error:  2.253164262965948e-14 , theta2: 104.1 , theta3: -14.099999999999998\n",
      "Time:  0.99 , Iteration:  3 , Error:  1.9391387401767266e-14 , theta2: 104.55 , theta3: -14.55\n",
      "Time:  1.0 , Iteration:  3 , Error:  1.829329550786446e-14 , theta2: 105.0 , theta3: -14.999999999999998\n"
     ]
    },
    {
     "data": {
      "text/latex": [
       "$\\displaystyle \\left( \\left[\\begin{matrix}1.0 & 0 & 0 & 0 & 0 & 0 & 0 & 0 & 0\\\\0 & 1.0 & 0 & 0 & 0 & 0 & 0 & 0 & 0\\\\0 & 0 & 1.0 & 0 & 0 & 0 & 0 & 0 & 0\\\\0 & 0 & 0 & 1.0 & 0 & 193.185165257814 & 0 & 0 & 0\\\\0 & 0 & 0 & 0 & 1.0 & 51.7638090205041 & 0 & 0 & 0\\\\0 & 0 & 0 & 1.0 & 0 & -193.185165257814 & -1.0 & 0 & 38.8228567653781\\\\0 & 0 & 0 & 0 & 1.0 & -51.7638090205041 & 0 & -1.0 & 144.88887394336\\\\0 & 0 & 0 & 0 & 0 & 1.0 & 0 & 0 & 0\\\\0 & 0 & 0 & 0 & 0 & 0 & 0 & 0 & 1.0\\end{matrix}\\right], \\  \\left[\\begin{matrix}0\\\\0\\\\0\\\\-1.05047680162817 \\cdot 10^{-14}\\\\-1.23978960857186 \\cdot 10^{-14}\\\\2.3226643405965 \\cdot 10^{-15}\\\\8.07389370944447 \\cdot 10^{-15}\\\\-5.6705286646445 \\cdot 10^{-17}\\\\3.06161699786838 \\cdot 10^{-17}\\end{matrix}\\right], \\  \\left[\\begin{matrix}0\\\\0\\\\0\\\\-4.4985215550346 \\cdot 10^{-16}\\\\9.46261445729903 \\cdot 10^{-15}\\\\5.6705286646445 \\cdot 10^{-17}\\\\-1.0270415168479 \\cdot 10^{-14}\\\\1.0165284145654 \\cdot 10^{-14}\\\\-3.06161699786838 \\cdot 10^{-17}\\end{matrix}\\right], \\  \\left[\\begin{matrix}0\\\\0\\\\0\\\\-51.7638090205041\\\\193.185165257814\\\\\\frac{\\pi}{4} + 1.0471975511966\\\\41.361255902352\\\\347.547473750249\\\\-0.785398163397448 + \\frac{\\pi}{6}\\end{matrix}\\right]\\right)$"
      ],
      "text/plain": [
       "⎛                                                                             \n",
       "⎜                                                                             \n",
       "⎜⎡1.0   0    0    0    0           0           0     0           0        ⎤  ⎡\n",
       "⎜⎢                                                                        ⎥  ⎢\n",
       "⎜⎢ 0   1.0   0    0    0           0           0     0           0        ⎥  ⎢\n",
       "⎜⎢                                                                        ⎥  ⎢\n",
       "⎜⎢ 0    0   1.0   0    0           0           0     0           0        ⎥  ⎢\n",
       "⎜⎢                                                                        ⎥  ⎢\n",
       "⎜⎢ 0    0    0   1.0   0   193.185165257814    0     0           0        ⎥  ⎢\n",
       "⎜⎢                                                                        ⎥  ⎢\n",
       "⎜⎢ 0    0    0    0   1.0  51.7638090205041    0     0           0        ⎥, ⎢\n",
       "⎜⎢                                                                        ⎥  ⎢\n",
       "⎜⎢ 0    0    0   1.0   0   -193.185165257814  -1.0   0    38.8228567653781⎥  ⎢\n",
       "⎜⎢                                                                        ⎥  ⎢\n",
       "⎜⎢ 0    0    0    0   1.0  -51.7638090205041   0    -1.0  144.88887394336 ⎥  ⎢\n",
       "⎜⎢                                                                        ⎥  ⎢\n",
       "⎜⎢ 0    0    0    0    0          1.0          0     0           0        ⎥  ⎢\n",
       "⎜⎢                                                                        ⎥  ⎢\n",
       "⎜⎣ 0    0    0    0    0           0           0     0          1.0       ⎦  ⎣\n",
       "⎜                                                                             \n",
       "⎝                                                                             \n",
       "\n",
       "                                                 ⎡          0           ⎤⎞\n",
       "                                                 ⎢                      ⎥⎟\n",
       "          0          ⎤  ⎡          0          ⎤  ⎢          0           ⎥⎟\n",
       "                     ⎥  ⎢                     ⎥  ⎢                      ⎥⎟\n",
       "          0          ⎥  ⎢          0          ⎥  ⎢          0           ⎥⎟\n",
       "                     ⎥  ⎢                     ⎥  ⎢                      ⎥⎟\n",
       "          0          ⎥  ⎢          0          ⎥  ⎢  -51.7638090205041   ⎥⎟\n",
       "                     ⎥  ⎢                     ⎥  ⎢                      ⎥⎟\n",
       "-1.05047680162817e-14⎥  ⎢-4.4985215550346e-16 ⎥  ⎢   193.185165257814   ⎥⎟\n",
       "                     ⎥  ⎢                     ⎥  ⎢                      ⎥⎟\n",
       "-1.23978960857186e-14⎥, ⎢9.46261445729903e-15 ⎥, ⎢ π                    ⎥⎟\n",
       "                     ⎥  ⎢                     ⎥  ⎢ ─ + 1.0471975511966  ⎥⎟\n",
       " 2.3226643405965e-15 ⎥  ⎢ 5.6705286646445e-17 ⎥  ⎢ 4                    ⎥⎟\n",
       "                     ⎥  ⎢                     ⎥  ⎢                      ⎥⎟\n",
       "8.07389370944447e-15 ⎥  ⎢-1.0270415168479e-14 ⎥  ⎢   41.361255902352    ⎥⎟\n",
       "                     ⎥  ⎢                     ⎥  ⎢                      ⎥⎟\n",
       "-5.6705286646445e-17 ⎥  ⎢ 1.0165284145654e-14 ⎥  ⎢   347.547473750249   ⎥⎟\n",
       "                     ⎥  ⎢                     ⎥  ⎢                      ⎥⎟\n",
       "3.06161699786838e-17 ⎦  ⎣-3.06161699786838e-17⎦  ⎢                     π⎥⎟\n",
       "                                                 ⎢-0.785398163397448 + ─⎥⎟\n",
       "                                                 ⎣                     6⎦⎠"
      ]
     },
     "execution_count": 117,
     "metadata": {},
     "output_type": "execute_result"
    }
   ],
   "source": [
    "# Valores iniciales\n",
    "# q_values = np.array([0, 0, 0, 100, 170, sp.pi/3, 330, 420, sp.pi/6]).reshape(-1, 1)\n",
    "q_values = np.array([1, -4, 10, 90, 150, sp.pi/4, 300, 400, sp.pi/6]).reshape(-1, 1)\n",
    "\n",
    "# Imprimir mediante sympy\n",
    "# sp.Matrix(q_values)\n",
    "\n",
    "\n",
    "# J_qt(t)*deltaQ = C_qt(t)\n",
    "for step in range(steps + 1):\n",
    "    i: int = 0\n",
    "    current_error: int = 1\n",
    "    while(i<max_iter and current_error > max_error):\n",
    "\n",
    "        # Construir lista de valores de q\n",
    "        q_values_list = [(R_1_x,    q_values[0][0]),\n",
    "                         (R_1_y,    q_values[1][0]),\n",
    "                         (theta_1,  q_values[2][0]),\n",
    "                         (R_2_x,    q_values[3][0]),\n",
    "                         (R_2_y,    q_values[4][0]),\n",
    "                         (theta_2,  q_values[5][0]),\n",
    "                         (R_3_x,    q_values[6][0]),\n",
    "                         (R_3_y,    q_values[7][0]),\n",
    "                         (theta_3,  q_values[8][0]),\n",
    "                         (t,       (time/steps) * step)]\n",
    "\n",
    "        # Calcular las matrices de coeficientes y Constantes\n",
    "        coefficients_matrix = np.array(J_qt.subs(q_values_list)).astype(np.float64)\n",
    "        constants_vector = np.array(C_qt.subs(q_values_list)).astype(np.float64)\n",
    "\n",
    "        # Calcular delta\n",
    "        delta_q = np.linalg.solve(coefficients_matrix, -constants_vector)\n",
    "\n",
    "        # Calcular nuevo q\n",
    "        q_values = q_values + delta_q\n",
    "\n",
    "        # Calcular error máximo\n",
    "        current_error = np.linalg.norm(constants_vector)\n",
    "\n",
    "        i = i + 1\n",
    "\n",
    "    # Print Time, Index, Error\n",
    "    print(\"Time: \", (time/steps) * step, \", Iteration: \", i,\", Error: \", current_error,\n",
    "          \", theta2:\",np.rad2deg(float((q_values[5][0]))), \", theta3:\",np.rad2deg(float((q_values[8][0]))))\n",
    "    # display(sp.Matrix(coefficients_matrix))\n",
    "    # display(sp.Matrix(constants_vector))\n",
    "    # display(sp.Matrix(delta_q))\n",
    "\n",
    "\n",
    "\n",
    "sp.Matrix(coefficients_matrix), sp.Matrix(constants_vector), sp.Matrix(delta_q), sp.Matrix(q_values)\n"
   ]
  },
  {
   "cell_type": "code",
   "execution_count": 118,
   "metadata": {},
   "outputs": [
    {
     "name": "stdout",
     "output_type": "stream",
     "text": [
      "-14.999999999999998\n"
     ]
    },
    {
     "data": {
      "text/latex": [
       "$\\displaystyle \\omega^{3}$"
      ],
      "text/plain": [
       "ω³"
      ]
     },
     "execution_count": 118,
     "metadata": {},
     "output_type": "execute_result"
    }
   ],
   "source": [
    "print(np.rad2deg(float(q_values[8][0])))\n",
    "omega_3"
   ]
  }
 ],
 "metadata": {
  "kernelspec": {
   "display_name": "Python 3",
   "language": "python",
   "name": "python3"
  },
  "language_info": {
   "codemirror_mode": {
    "name": "ipython",
    "version": 3
   },
   "file_extension": ".py",
   "mimetype": "text/x-python",
   "name": "python",
   "nbconvert_exporter": "python",
   "pygments_lexer": "ipython3",
   "version": "3.10.11"
  },
  "orig_nbformat": 4
 },
 "nbformat": 4,
 "nbformat_minor": 2
}
